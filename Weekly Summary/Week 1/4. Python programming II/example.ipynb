{
 "cells": [
  {
   "cell_type": "markdown",
   "metadata": {},
   "source": [
    "# 고급 자료형 (리스트, 세트, 딕셔너리, collections)"
   ]
  },
  {
   "cell_type": "code",
   "execution_count": 1,
   "metadata": {},
   "outputs": [
    {
     "name": "stdout",
     "output_type": "stream",
     "text": [
      "리스트: ['apple', 'banana', 'cherry']\n",
      "첫 번째 요소: apple\n",
      "마지막 요소: cherry\n",
      "요소 변경 후: ['apple', 'blueberry', 'cherry']\n",
      "요소 추가 후: ['apple', 'blueberry', 'cherry', 'date']\n",
      "요소 삭제 후: ['blueberry', 'cherry', 'date']\n",
      "리스트 길이 3\n"
     ]
    }
   ],
   "source": [
    "# 리스트 예제\n",
    "# 리스트 생성 및 기본 사용법\n",
    "fruits = [\"apple\", \"banana\", \"cherry\"]\n",
    "print(\"리스트:\", fruits)\n",
    "\n",
    "# 리스트 요소 접근\n",
    "print(\"첫 번째 요소:\", fruits[0])\n",
    "print(\"마지막 요소:\", fruits[-1])\n",
    "\n",
    "# 리스트 요소 변경\n",
    "fruits[1] = \"blueberry\"\n",
    "print(\"요소 변경 후:\", fruits)\n",
    "\n",
    "# 리스트 요소 추가\n",
    "fruits.append(\"date\")\n",
    "print(\"요소 추가 후:\", fruits)\n",
    "\n",
    "# 리스트 요소 삭제\n",
    "fruits.remove(\"apple\")\n",
    "print(\"요소 삭제 후:\", fruits)\n",
    "\n",
    "# 리스트 길이\n",
    "print(\"리스트 길이\", len(fruits))"
   ]
  },
  {
   "cell_type": "code",
   "execution_count": 4,
   "metadata": {},
   "outputs": [
    {
     "name": "stdout",
     "output_type": "stream",
     "text": [
      "세트: {'banana', 'apple', 'cherry'}\n",
      "요소 추가 후: {'banana', 'apple', 'cherry', 'date'}\n",
      "요소 삭제 후: {'apple', 'cherry', 'date'}\n",
      "세트 길이: 3\n",
      "요소 추가 후: {'date', 'date_1', 'apple', 'cherry'}\n"
     ]
    }
   ],
   "source": [
    "# 세트 예제\n",
    "# 세트 생성 및 기본 사용법\n",
    "fruits = {\"apple\", \"banana\", \"cherry\"}\n",
    "print(\"세트:\", fruits)\n",
    "\n",
    "# 세트 요소 추가\n",
    "fruits.add(\"date\")\n",
    "print(\"요소 추가 후:\", fruits)\n",
    "\n",
    "# 세트 요소 삭제\n",
    "fruits.remove(\"banana\")\n",
    "print(\"요소 삭제 후:\", fruits)\n",
    "\n",
    "# 세트 길이\n",
    "print(\"세트 길이:\", len(fruits))\n",
    "\n",
    "fruits.add(\"date_1\")\n",
    "print(\"요소 추가 후:\", fruits)"
   ]
  },
  {
   "cell_type": "code",
   "execution_count": 6,
   "metadata": {},
   "outputs": [
    {
     "name": "stdout",
     "output_type": "stream",
     "text": [
      "딕셔너리: {'apple': 'red', 'banana': 'yellow', 'cherry': 'red'}\n",
      "사과의 색: red\n",
      "요소 추가 후: {'apple': 'red', 'banana': 'yellow', 'cherry': 'red', 'date': 'brown'}\n",
      "요소 삭제 후: {'apple': 'red', 'cherry': 'red', 'date': 'brown'}\n",
      "딕셔너리 길이: 3\n"
     ]
    }
   ],
   "source": [
    "# 딕셔너리 예제\n",
    "# 딕셔너리 생성 및 기본 사용법\n",
    "fruit_colors = {\"apple\": \"red\", \"banana\": \"yellow\", \"cherry\": \"red\"}\n",
    "print(\"딕셔너리:\", fruit_colors)\n",
    "\n",
    "# 딕셔너리 요소 접근\n",
    "print(\"사과의 색:\", fruit_colors[\"apple\"]) # fruit_colors.get(\"apple\")\n",
    "\n",
    "# 딕셔너리 요소 추가\n",
    "fruit_colors[\"date\"] = \"brown\"\n",
    "print(\"요소 추가 후:\", fruit_colors)\n",
    "\n",
    "# 딕셔너리 요소 삭제\n",
    "del fruit_colors[\"banana\"]\n",
    "print(\"요소 삭제 후:\", fruit_colors)\n",
    "\n",
    "# 딕셔너리 길이\n",
    "print(\"딕셔너리 길이:\", len(fruit_colors))"
   ]
  },
  {
   "cell_type": "code",
   "execution_count": 7,
   "metadata": {},
   "outputs": [
    {
     "name": "stdout",
     "output_type": "stream",
     "text": [
      "튜플: ('apple', 'banana', 'cherry')\n",
      "첫 번째 요소: apple\n",
      "마지막 요소: cherry\n",
      "언패킹된 요소: apple banana cherry\n"
     ]
    }
   ],
   "source": [
    "# 튜플 예제\n",
    "fruits = (\"apple\", \"banana\", \"cherry\")\n",
    "print(\"튜플:\", fruits)\n",
    "\n",
    "# 튜플 요소 접근\n",
    "print(\"첫 번째 요소:\", fruits[0])\n",
    "print(\"마지막 요소:\", fruits[-1])\n",
    "\n",
    "# 튜플 언패킹\n",
    "fruit1, fruit2, fruit3 = fruits\n",
    "print(\"언패킹된 요소:\", fruit1, fruit2, fruit3)"
   ]
  },
  {
   "cell_type": "code",
   "execution_count": 9,
   "metadata": {},
   "outputs": [
    {
     "name": "stdout",
     "output_type": "stream",
     "text": [
      "Deque: deque(['banana', 'cherry', 'date'])\n",
      "NamedTuple: Fruit(name='apple', color='red')\n",
      "DefaultDict: defaultdict(<class 'int'>, {'apple': 1})\n",
      "Counter: Counter({'banana': 3, 'apple': 2, 'cherry': 1})\n"
     ]
    }
   ],
   "source": [
    "# collections 모듈 예제\n",
    "from collections import deque, namedtuple, defaultdict, Counter\n",
    "\n",
    "# deque\n",
    "dq = deque([\"apple\", \"banana\", \"cherry\"])\n",
    "dq.append(\"date\")\n",
    "dq.popleft()\n",
    "print(\"Deque:\", dq)\n",
    "\n",
    "# namedtuple\n",
    "Fruit = namedtuple(\"Fruit\", \"name color\")\n",
    "apple = Fruit(name=\"apple\", color=\"red\")\n",
    "print(\"NamedTuple:\", apple)\n",
    "\n",
    "# defaultdict\n",
    "dd = defaultdict(int)\n",
    "dd[\"apple\"] += 1\n",
    "print(\"DefaultDict:\", dd)\n",
    "\n",
    "# Counter\n",
    "cnt = Counter([\"apple\", \"banana\", \"apple\", \"cherry\", \"banana\", \"banana\"])\n",
    "print(\"Counter:\", cnt)"
   ]
  },
  {
   "cell_type": "code",
   "execution_count": 11,
   "metadata": {},
   "outputs": [
    {
     "name": "stdout",
     "output_type": "stream",
     "text": [
      "제곱된 숫자들: [2, 4, 6, 8, 10]\n",
      "짝수들: [2, 4]\n"
     ]
    }
   ],
   "source": [
    "# 리스트 컴프리헨션 예제\n",
    "# 기본 리스트 컴프리헨션\n",
    "numbers = [1, 2, 3, 4, 5]\n",
    "squared_numbers = [x * 2 for x in numbers]\n",
    "\n",
    "squared_numbers = []\n",
    "for x in numbers:\n",
    "    squared_numbers.append(x * 2)\n",
    "    \n",
    "print(\"제곱된 숫자들:\", squared_numbers)\n",
    "\n",
    "# 조건을 포함한 리스트 컴프리헨션\n",
    "even_numbers = [x for x in numbers if x % 2 == 0]\n",
    "print(\"짝수들:\", even_numbers)"
   ]
  },
  {
   "cell_type": "code",
   "execution_count": 12,
   "metadata": {},
   "outputs": [
    {
     "name": "stdout",
     "output_type": "stream",
     "text": [
      "제곱된 딕셔너리: {1: 2, 2: 4, 3: 6, 4: 8, 5: 10}\n"
     ]
    }
   ],
   "source": [
    "# 딕셔너리 컴프리헨션 예제\n",
    "numbers = [1, 2, 3, 4, 5]\n",
    "\n",
    "squared_dict = {x: x * 2 for x in numbers}\n",
    "\n",
    "print(\"제곱된 딕셔너리:\", squared_dict)"
   ]
  },
  {
   "cell_type": "code",
   "execution_count": 14,
   "metadata": {},
   "outputs": [
    {
     "name": "stdout",
     "output_type": "stream",
     "text": [
      "제곱된 집합: {2, 4, 6, 8, 10}\n"
     ]
    }
   ],
   "source": [
    "# 집합 컴프리헨션 예제\n",
    "numbers = [1, 2, 3, 4, 5]\n",
    "\n",
    "squared_set = {x * 2 for x in numbers}\n",
    "\n",
    "print(\"제곱된 집합:\", squared_set)"
   ]
  },
  {
   "cell_type": "code",
   "execution_count": 15,
   "metadata": {},
   "outputs": [
    {
     "name": "stdout",
     "output_type": "stream",
     "text": [
      "Flattend List: [1, 2, 3, 4, 5, 6, 7, 8, 9]\n"
     ]
    }
   ],
   "source": [
    "# 중첩 리스트 컴프리헨션 예제\n",
    "matrix = [[1, 2, 3],\n",
    "          [4, 5, 6],\n",
    "          [7, 8, 9]]\n",
    "\n",
    "flattend = [num for row in matrix for num in row]\n",
    "\n",
    "print(\"Flattend List:\", flattend)"
   ]
  },
  {
   "cell_type": "markdown",
   "metadata": {},
   "source": [
    "# Logging"
   ]
  },
  {
   "cell_type": "code",
   "execution_count": 16,
   "metadata": {},
   "outputs": [
    {
     "name": "stderr",
     "output_type": "stream",
     "text": [
      "2024-07-05 12:45:56,814 - __main__ - INFO - Division successful\n",
      "2024-07-05 12:45:56,815 - __main__ - ERROR - Division by zero error\n"
     ]
    },
    {
     "name": "stdout",
     "output_type": "stream",
     "text": [
      "Division successful\n",
      " 5.0\n",
      "Division by zero error\n",
      " None\n"
     ]
    }
   ],
   "source": [
    "import logging\n",
    "\n",
    "# 로깅 설정\n",
    "logging.basicConfig(level=logging.DEBUG,\n",
    "                    format='%(asctime)s - %(name)s - %(levelname)s - %(message)s')\n",
    "\n",
    "# 로깅 객체\n",
    "logger = logging.getLogger(__name__)\n",
    "\n",
    "def divide(a, b):\n",
    "    try:\n",
    "        result = a / b\n",
    "        logger.info(\"Division successful\")\n",
    "        return result\n",
    "    except ZeroDivisionError:\n",
    "        logger.error(\"Division by zero error\")\n",
    "        return None\n",
    "\n",
    "# 로깅 테스트\n",
    "print(\"Division successful\\n\", divide(10, 2))\n",
    "print(\"Division by zero error\\n\", divide(10, 0))"
   ]
  },
  {
   "cell_type": "code",
   "execution_count": 17,
   "metadata": {},
   "outputs": [
    {
     "name": "stderr",
     "output_type": "stream",
     "text": [
      "2024-07-05 12:47:30,235 - __main__ - INFO - This is an info message\n",
      "2024-07-05 12:47:30,236 - __main__ - WARNING - This is a warning message\n",
      "2024-07-05 12:47:30,236 - __main__ - ERROR - This is an error message\n",
      "2024-07-05 12:47:30,237 - __main__ - CRITICAL - This is a critical message\n"
     ]
    }
   ],
   "source": [
    "logger.setLevel(logging.INFO) # 로그 레벨 설정\n",
    "\n",
    "logger.debug(\"This is a debug message\")\n",
    "logger.info(\"This is an info message\")\n",
    "logger.warning(\"This is a warning message\")\n",
    "logger.error(\"This is an error message\")\n",
    "logger.critical(\"This is a critical message\")"
   ]
  },
  {
   "cell_type": "markdown",
   "metadata": {},
   "source": [
    "# 정규표현식"
   ]
  },
  {
   "cell_type": "code",
   "execution_count": 19,
   "metadata": {},
   "outputs": [
    {
     "name": "stdout",
     "output_type": "stream",
     "text": [
      "이메일: ['support@example.com', 'sales@example.com']\n",
      "태그 제거 후 텍스트: This is a bold paragraph.\n"
     ]
    }
   ],
   "source": [
    "import re\n",
    "\n",
    "# 이메일 추출\n",
    "text = \"Contact us at support@example.com or sales@example.com\"\n",
    "pattern = r\"\\b[A-Za-z0-9._%+-]+@[A-Za-z0-9.-]+\\.[A-Z|a-z]{2,7}\\b\"\n",
    "matches = re.findall(pattern, text)\n",
    "print(\"이메일:\", matches)\n",
    "\n",
    "# HTML 태그 제거\n",
    "html = \"<p>This is a <b>bold</b> paragraph.</p>\"\n",
    "pattern = r\"<.*?>\"\n",
    "clean_text = re.sub(pattern, \"\", html)\n",
    "print(\"태그 제거 후 텍스트:\", clean_text)"
   ]
  },
  {
   "cell_type": "markdown",
   "metadata": {},
   "source": [
    "# 멀티 스레딩과 멀티 프로세싱"
   ]
  },
  {
   "cell_type": "markdown",
   "metadata": {},
   "source": [
    "이 코드의 실행 결과는 두 스레드가 동시에 실행되므로 print_numbers 함수의 출력이 섞일 수 있습니다. \n",
    "\n",
    "스레드는 전역 변수 A를 공유하므로, 각 스레드가 A의 값을 변경할 때마다 다른 스레드의 출력에도 영향을 미칩니다."
   ]
  },
  {
   "cell_type": "code",
   "execution_count": 20,
   "metadata": {},
   "outputs": [
    {
     "name": "stdout",
     "output_type": "stream",
     "text": [
      "i: 0\n",
      "공통A: 0\n",
      "i: 0\n",
      "공통A: 1\n",
      "i:i: 1\n",
      "공통A: 2\n",
      " 1\n",
      "공통A: 3\n",
      "i: 2\n",
      "공통A: 4\n",
      "i: 2\n",
      "공통A: 5\n",
      "i:i: 3\n",
      "공통A: 6\n",
      " 3\n",
      "공통A: 7\n",
      "i:i: 4\n",
      "공통A: 8\n",
      " 4\n",
      "공통A: 9\n"
     ]
    }
   ],
   "source": [
    "import threading\n",
    "import time\n",
    "\n",
    "A = 0\n",
    "# 숫자를 출력하는 함수\n",
    "def print_numbers():\n",
    "    global A\n",
    "    for i in range(5):\n",
    "        print(\"i:\", i)\n",
    "        print(\"공통A:\", A)\n",
    "        A += 1\n",
    "        time.sleep(1)\n",
    "        \n",
    "# print_numbers 함수를 실행할 두 개의 스레드 생성\n",
    "thread1 = threading.Thread(target=print_numbers)\n",
    "thread2 = threading.Thread(target=print_numbers)\n",
    "# 각 스레드 시작\n",
    "thread1.start()\n",
    "thread2.start()\n",
    "# 각 스레드가 완료될 때까지 메인 스레드가 기다리게 함\n",
    "thread1.join()\n",
    "thread2.join()"
   ]
  },
  {
   "cell_type": "code",
   "execution_count": 22,
   "metadata": {},
   "outputs": [],
   "source": [
    "import multiprocessing\n",
    "import time\n",
    "\n",
    "A = 0\n",
    "# 숫자를 출력하는 함수\n",
    "def print_numbers():\n",
    "    global A\n",
    "    for i in range(5):\n",
    "        print(\"i:\", i)\n",
    "        print(\"공통 A:\", A)\n",
    "        A += 1\n",
    "        time.sleep(1)\n",
    "        \n",
    "# 두 개의 프로세스 생성 및 시작\n",
    "process1 = multiprocessing.Process(target=print_numbers)\n",
    "process2 = multiprocessing.Process(target=print_numbers)\n",
    "process1.start()\n",
    "process2.start()\n",
    "process1.join()\n",
    "process2.join()"
   ]
  }
 ],
 "metadata": {
  "kernelspec": {
   "display_name": "wpy",
   "language": "python",
   "name": "python3"
  },
  "language_info": {
   "codemirror_mode": {
    "name": "ipython",
    "version": 3
   },
   "file_extension": ".py",
   "mimetype": "text/x-python",
   "name": "python",
   "nbconvert_exporter": "python",
   "pygments_lexer": "ipython3",
   "version": "3.10.14"
  }
 },
 "nbformat": 4,
 "nbformat_minor": 2
}
