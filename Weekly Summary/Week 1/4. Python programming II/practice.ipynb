{
 "cells": [
  {
   "cell_type": "markdown",
   "metadata": {},
   "source": [
    "# 파이썬 프로그래밍 II 종합 실습\n",
    "\n",
    "collections 모듈, comprehension, logging, 정규표현식, 멀티스레딩, 멀티프로세싱을 활용합니다."
   ]
  },
  {
   "cell_type": "markdown",
   "metadata": {},
   "source": [
    "## Collections 모듈 활용\n",
    "\n",
    "EXAMPLE_SEQUENCE 값을 활용해보세요."
   ]
  },
  {
   "cell_type": "code",
   "execution_count": 1,
   "metadata": {},
   "outputs": [],
   "source": [
    "EXAMPLE_SEQUENCE = ['dog', 'cat', 'mouse', 'parrot', 'frog']"
   ]
  },
  {
   "cell_type": "markdown",
   "metadata": {},
   "source": [
    "### Deque\n",
    "\n",
    "Deque를 생성하고, 요소를 추가하고 제거하는 작업을 해보세요."
   ]
  },
  {
   "cell_type": "code",
   "execution_count": 53,
   "metadata": {},
   "outputs": [
    {
     "name": "stdout",
     "output_type": "stream",
     "text": [
      "Deque 출력: deque([1, 4, 12, 9, 22, 5, 1, 9, 'bee']) - append 'bee'\n",
      "Deque 출력: deque(['eagle', 1, 4, 12, 9, 22, 5, 1, 9, 'bee']) - appendleft 'eagle'\n",
      "Deque 출력: deque(['eagle', 1, 4, 12, 9, 22, 5, 1, 9]) - pop\n",
      "Deque 출력: deque([1, 4, 12, 9, 22, 5, 1, 9]) - popleft\n"
     ]
    }
   ],
   "source": [
    "from collections import deque\n",
    "from typing import Deque\n",
    "\n",
    "def print_deque(dq: Deque[str], message: str) -> None:\n",
    "    print(f\"Deque 출력: {dq} - {message}\")\n",
    "\n",
    "dq = deque(EXAMPLE_SEQUENCE)\n",
    "\n",
    "dq.append('bee')\n",
    "print_deque(dq, \"append 'bee'\")\n",
    "\n",
    "dq.appendleft('eagle')\n",
    "print_deque(dq, \"appendleft 'eagle'\")\n",
    "\n",
    "dq.pop()\n",
    "print_deque(dq, \"pop\")\n",
    "\n",
    "dq.popleft()\n",
    "print_deque(dq, \"popleft\")"
   ]
  },
  {
   "cell_type": "markdown",
   "metadata": {},
   "source": [
    "### Namedtuple\n",
    "\n",
    "Namedtuple을 정의하고 인스턴스를 생성해보세요."
   ]
  },
  {
   "cell_type": "code",
   "execution_count": 54,
   "metadata": {},
   "outputs": [
    {
     "name": "stdout",
     "output_type": "stream",
     "text": [
      "List 출력: [Animal(name='dog', type='mammal'), Animal(name='cat', type='mammal'), Animal(name='mouse', type='mammal'), Animal(name='parrot', type='bird'), Animal(name='frog', type='amphibian'), Animal(name='bee', type='insect')] - append 'bee'\n",
      "List 출력: [Animal(name='eagle', type='bird'), Animal(name='dog', type='mammal'), Animal(name='cat', type='mammal'), Animal(name='mouse', type='mammal'), Animal(name='parrot', type='bird'), Animal(name='frog', type='amphibian'), Animal(name='bee', type='insect')] - insert 'eagle' at the beginning\n",
      "List 출력: [Animal(name='eagle', type='bird'), Animal(name='dog', type='mammal'), Animal(name='cat', type='mammal'), Animal(name='mouse', type='mammal'), Animal(name='parrot', type='bird'), Animal(name='frog', type='amphibian')] - pop\n",
      "List 출력: [Animal(name='dog', type='mammal'), Animal(name='cat', type='mammal'), Animal(name='mouse', type='mammal'), Animal(name='parrot', type='bird'), Animal(name='frog', type='amphibian')] - remove first element\n"
     ]
    }
   ],
   "source": [
    "from collections import namedtuple\n",
    "from typing import List\n",
    "\n",
    "# 동물 namedtuple 정의\n",
    "Animal = namedtuple(typename='Animal', field_names=['name', 'type'])\n",
    "\n",
    "EXAMPLE_SEQUENCE = [\n",
    "    Animal(name='dog', type='mammal'),\n",
    "    Animal(name='cat', type='mammal'),\n",
    "    Animal(name='mouse', type='mammal'),\n",
    "    Animal(name='parrot', type='bird'),\n",
    "    Animal(name='frog', type='amphibian')\n",
    "]\n",
    "\n",
    "def print_list(lst: List[str], message: str) -> None:\n",
    "    print(f\"List 출력: {lst} - {message}\")\n",
    "    \n",
    "animals = list(EXAMPLE_SEQUENCE)\n",
    "\n",
    "animals.append(Animal(name='bee', type='insect'))\n",
    "print_list(animals, \"append 'bee'\")\n",
    "\n",
    "animals.insert(0, Animal(name='eagle', type='bird'))\n",
    "print_list(animals, \"insert 'eagle' at the beginning\")\n",
    "\n",
    "animals.pop()\n",
    "print_list(animals, \"pop\")\n",
    "\n",
    "animals.pop(0)\n",
    "print_list(animals, \"remove first element\")"
   ]
  },
  {
   "cell_type": "markdown",
   "metadata": {},
   "source": [
    "### Defaultdict\n",
    "\n",
    "Defaultdict를 사용해보세요. 키가 없을 때 기본값을 설정하세요."
   ]
  },
  {
   "cell_type": "code",
   "execution_count": 28,
   "metadata": {},
   "outputs": [
    {
     "name": "stdout",
     "output_type": "stream",
     "text": [
      "Mammal: dog, cat, mouse\n",
      "Bird: parrot\n",
      "Amphibian: frog\n"
     ]
    }
   ],
   "source": [
    "from collections import defaultdict\n",
    "\n",
    "animal_categories = defaultdict(list)\n",
    "\n",
    "EXAMPLE_SEQUENCE = ['dog', 'cat', 'mouse', 'parrot', 'frog']\n",
    "\n",
    "animal_data = {\n",
    "    'dog': 'mammal',\n",
    "    'cat': 'mammal',\n",
    "    'mouse': 'mammal',\n",
    "    'parrot': 'bird',\n",
    "    'frog': 'amphibian'\n",
    "}\n",
    "\n",
    "for animal in EXAMPLE_SEQUENCE:\n",
    "    category = animal_data[animal]\n",
    "    animal_categories[category].append(animal)\n",
    "    \n",
    "for category, animals in animal_categories.items():\n",
    "    print(f\"{category.capitalize()}: {', '.join(animals)}\")"
   ]
  },
  {
   "cell_type": "markdown",
   "metadata": {},
   "source": [
    "### Counter \n",
    "\n",
    "Counter를 사용해 리스트에서 각 요소의 빈도를 세어보세요."
   ]
  },
  {
   "cell_type": "code",
   "execution_count": 29,
   "metadata": {},
   "outputs": [
    {
     "name": "stdout",
     "output_type": "stream",
     "text": [
      "Dog: 3\n",
      "Cat: 2\n",
      "Mouse: 1\n",
      "Parrot: 1\n",
      "Frog: 1\n"
     ]
    }
   ],
   "source": [
    "from collections import Counter\n",
    "\n",
    "EXAMPLE_SEQUENCE = ['dog', 'cat', 'mouse', 'parrot', 'frog', 'cat', 'dog', 'dog']\n",
    "\n",
    "animal_counter = Counter(EXAMPLE_SEQUENCE)\n",
    "\n",
    "for animal, count in animal_counter.items():\n",
    "    print(f\"{animal.capitalize()}: {count}\")"
   ]
  },
  {
   "cell_type": "markdown",
   "metadata": {},
   "source": [
    "## Comprehension 활용\n",
    "\n",
    "EXAMPLE_SEQUENCE 값을 활용해보세요."
   ]
  },
  {
   "cell_type": "code",
   "execution_count": 30,
   "metadata": {},
   "outputs": [],
   "source": [
    "EXAMPLE_SEQUENCE = [1, 4, 12, 9, 22, 5, 1, 9]"
   ]
  },
  {
   "cell_type": "markdown",
   "metadata": {},
   "source": [
    "### List comprehension\n",
    "\n",
    "숫자 리스트의 제곱값을 구해보세요."
   ]
  },
  {
   "cell_type": "code",
   "execution_count": 31,
   "metadata": {},
   "outputs": [
    {
     "data": {
      "text/plain": [
       "[1, 16, 144, 81, 484, 25, 1, 81]"
      ]
     },
     "execution_count": 31,
     "metadata": {},
     "output_type": "execute_result"
    }
   ],
   "source": [
    "[x**2 for x in EXAMPLE_SEQUENCE]"
   ]
  },
  {
   "cell_type": "markdown",
   "metadata": {},
   "source": [
    "### Dictionary comprehension\n",
    "\n",
    "키가 숫자이고 값이 그 숫자의 제곱인 딕셔너리를 생성하세요."
   ]
  },
  {
   "cell_type": "code",
   "execution_count": 32,
   "metadata": {},
   "outputs": [
    {
     "data": {
      "text/plain": [
       "{1: 1, 4: 16, 12: 144, 9: 81, 22: 484, 5: 25}"
      ]
     },
     "execution_count": 32,
     "metadata": {},
     "output_type": "execute_result"
    }
   ],
   "source": [
    "{x: x**2 for x in EXAMPLE_SEQUENCE}"
   ]
  },
  {
   "cell_type": "markdown",
   "metadata": {},
   "source": [
    "### Set comprehension\n",
    "\n",
    "중복된 값을 제거한 제곱값 집합을 생성하세요."
   ]
  },
  {
   "cell_type": "code",
   "execution_count": 37,
   "metadata": {},
   "outputs": [
    {
     "data": {
      "text/plain": [
       "{1, 16, 25, 81, 144, 484}"
      ]
     },
     "execution_count": 37,
     "metadata": {},
     "output_type": "execute_result"
    }
   ],
   "source": [
    "{x**2 for x in EXAMPLE_SEQUENCE}"
   ]
  },
  {
   "cell_type": "markdown",
   "metadata": {},
   "source": [
    "## Logging 활용"
   ]
  },
  {
   "cell_type": "markdown",
   "metadata": {},
   "source": [
    "### 기본 로깅 설정\n",
    "\n",
    "로깅을 설정하고 정보를 로깅하세요. 로그의 형태는 '시간-에러레벨-메시지'입니다."
   ]
  },
  {
   "cell_type": "code",
   "execution_count": 43,
   "metadata": {},
   "outputs": [
    {
     "name": "stderr",
     "output_type": "stream",
     "text": [
      "2024-07-05 18:29:18,092 - DEBUG - This is a debug message\n",
      "2024-07-05 18:29:18,094 - INFO - This is an info message\n",
      "2024-07-05 18:29:18,094 - WARNING - This is a warning message\n",
      "2024-07-05 18:29:18,095 - ERROR - This is an error message\n",
      "2024-07-05 18:29:18,095 - CRITICAL - This is a critical message\n"
     ]
    }
   ],
   "source": [
    "import logging\n",
    "\n",
    "def setup_logger(name, level=logging.DEBUG, format='%(asctime)s - %(levelname)s - %(message)s'):\n",
    "    logging.basicConfig(level=level, format=format)\n",
    "    return logging.getLogger(name)\n",
    "\n",
    "logger = setup_logger(__name__)\n",
    "\n",
    "# 테스트 로그 메시지\n",
    "logger.debug(\"This is a debug message\")\n",
    "logger.info(\"This is an info message\")\n",
    "logger.warning(\"This is a warning message\")\n",
    "logger.error(\"This is an error message\")\n",
    "logger.critical(\"This is a critical message\")"
   ]
  },
  {
   "cell_type": "markdown",
   "metadata": {},
   "source": [
    "### 예외 로깅\n",
    "\n",
    "예외가 발생했을 때 에러를 로깅하세요."
   ]
  },
  {
   "cell_type": "code",
   "execution_count": 55,
   "metadata": {},
   "outputs": [
    {
     "name": "stderr",
     "output_type": "stream",
     "text": [
      "2024-07-05 18:55:48,858 - INFO - Division result: 5.0\n",
      "2024-07-05 18:55:48,859 - ERROR - Attempted to divide by zero\n",
      "Traceback (most recent call last):\n",
      "  File \"C:\\Users\\Sangjin\\AppData\\Local\\Temp\\ipykernel_58088\\2671529511.py\", line 3, in divide\n",
      "    result = a / b\n",
      "ZeroDivisionError: division by zero\n"
     ]
    }
   ],
   "source": [
    "def divide(a: int, b: int):\n",
    "    try:\n",
    "        result = a / b\n",
    "        logger.info(f'Division result: {result}')\n",
    "        return result\n",
    "    except ZeroDivisionError as e:\n",
    "        logger.error('Attempted to divide by zero', exc_info=True)\n",
    "    except Exception as e:\n",
    "        logger.error('An unexpected error occurred', exc_info=True)\n",
    "        \n",
    "divide(10, 2)\n",
    "divide(10, 0)"
   ]
  },
  {
   "cell_type": "markdown",
   "metadata": {},
   "source": [
    "## 정규 표현식 사용"
   ]
  },
  {
   "cell_type": "markdown",
   "metadata": {},
   "source": [
    "### 기본 패턴 매칭\n",
    "\n",
    "이메일 주소를 추출하세요."
   ]
  },
  {
   "cell_type": "code",
   "execution_count": 56,
   "metadata": {},
   "outputs": [
    {
     "name": "stdout",
     "output_type": "stream",
     "text": [
      "E-mail: ['kakaotech@goorm.io']\n"
     ]
    }
   ],
   "source": [
    "from typing import List\n",
    "import re\n",
    "\n",
    "def find_emails(text: str) -> List[str]:\n",
    "    pattern = re.compile(r\"\\b[A-Za-z0-9._%+-]+@[A-Za-z0-9.-]+\\.[A-Z|a-z]{2,7}\\b\")\n",
    "    return pattern.findall(text)\n",
    "\n",
    "email = \"My name is Jhin, my email is kakaotech@goorm.io\"\n",
    "matches = find_emails(email)\n",
    "print(\"E-mail:\", matches)"
   ]
  },
  {
   "cell_type": "markdown",
   "metadata": {},
   "source": [
    "### 기본 패턴 매칭\n",
    "\n",
    "비식별화를 진행하세요. ID를 앞 3글자 이외는 모두 '*'로 변경합니다."
   ]
  },
  {
   "cell_type": "code",
   "execution_count": 57,
   "metadata": {},
   "outputs": [
    {
     "name": "stdout",
     "output_type": "stream",
     "text": [
      "['jhi*****', 'lov********', '세종대*****', 'twi*******', 'Pos*******']\n"
     ]
    }
   ],
   "source": [
    "from typing import List\n",
    "import re\n",
    "\n",
    "def mask_id(id_list: List[str]) -> List[str]:\n",
    "    masked_list = []\n",
    "    for id in id_list:\n",
    "        if len(id) > 3:\n",
    "            # 첫 3글자는 그대로 두고 나머지는 '*'로 대체\n",
    "            masked_id = id[:3] + re.sub(r'.', '*', id[3:])\n",
    "        else:\n",
    "            # 길이가 3 이하인 경우 원본 유지\n",
    "            masked_id = id\n",
    "        masked_list.append(masked_id)\n",
    "    return masked_list\n",
    "\n",
    "id_list = [\"jhin.lee\", \"lovelove123\", \"세종대왕만세!!\", \"twin에너지123\", \"PostModern\"]\n",
    "masked_id_list = mask_id(id_list)\n",
    "\n",
    "print(masked_id_list)"
   ]
  },
  {
   "cell_type": "markdown",
   "metadata": {},
   "source": [
    "### 고급 패턴 매칭\n",
    "\n",
    "HTML 태그를 제거하세요."
   ]
  },
  {
   "cell_type": "code",
   "execution_count": 59,
   "metadata": {},
   "outputs": [
    {
     "name": "stdout",
     "output_type": "stream",
     "text": [
      "Hello, World!\n"
     ]
    }
   ],
   "source": [
    "import re\n",
    "\n",
    "def remove_html_tags(text: str) -> str:\n",
    "    pattern = re.compile(r\"<.*?>\")\n",
    "    return pattern.sub(\"\", text)\n",
    "\n",
    "html = \"<p>Hello, <b>World!</b></p>\"\n",
    "clean_text = remove_html_tags(html)\n",
    "print(clean_text)\n"
   ]
  },
  {
   "cell_type": "markdown",
   "metadata": {},
   "source": [
    "## 멀티스레딩과 멀티프로세싱"
   ]
  },
  {
   "cell_type": "markdown",
   "metadata": {},
   "source": [
    "### 스레딩\n",
    "\n",
    "한 개의 스레드를 생성하고 실행하는 함수를 작성해주세요."
   ]
  },
  {
   "cell_type": "code",
   "execution_count": 60,
   "metadata": {},
   "outputs": [
    {
     "name": "stdout",
     "output_type": "stream",
     "text": [
      "Number: 0\n",
      "Number: 1\n",
      "Number: 2\n",
      "Number: 3\n",
      "Number: 4\n"
     ]
    }
   ],
   "source": [
    "import threading\n",
    "import time\n",
    "\n",
    "def print_numbers():\n",
    "    for i in range(5):\n",
    "        print(f\"Number: {i}\")\n",
    "        time.sleep(1)\n",
    "        \n",
    "def run_thread():\n",
    "    thread = threading.Thread(target=print_numbers)\n",
    "    thread.start()\n",
    "    thread.join()\n",
    "    \n",
    "run_thread()"
   ]
  },
  {
   "cell_type": "markdown",
   "metadata": {},
   "source": [
    "### 멀티스레딩\n",
    "\n",
    "두 개의 스레드를 생성하고 실행하세요."
   ]
  },
  {
   "cell_type": "code",
   "execution_count": 62,
   "metadata": {},
   "outputs": [
    {
     "name": "stdout",
     "output_type": "stream",
     "text": [
      "Number: 0\n",
      "Letter: A\n",
      "Number: 1\n",
      "Letter: B\n",
      "Number: 2\n",
      "Letter: CNumber: 3\n",
      "\n",
      "Number: 4\n",
      "Letter: D\n",
      "Letter: E\n"
     ]
    }
   ],
   "source": [
    "import threading\n",
    "import time\n",
    "\n",
    "def print_numbers():\n",
    "    for i in range(5):\n",
    "        print(f\"Number: {i}\")\n",
    "        time.sleep(1)\n",
    "        \n",
    "def print_letters():\n",
    "    for letter in 'ABCDE':\n",
    "        print(f\"Letter: {letter}\")\n",
    "        time.sleep(1.5)\n",
    "        \n",
    "def run_thread():\n",
    "    thread1 = threading.Thread(target=print_numbers)\n",
    "    thread2 = threading.Thread(target=print_letters)\n",
    "    \n",
    "    thread1.start()\n",
    "    thread2.start()\n",
    "    \n",
    "    thread1.join()\n",
    "    thread2.join()\n",
    "    \n",
    "run_thread()"
   ]
  },
  {
   "cell_type": "markdown",
   "metadata": {},
   "source": [
    "### 멀티프로세싱\n",
    "\n",
    "두 개의 프로세스를 생성하고 실행하세요."
   ]
  },
  {
   "cell_type": "code",
   "execution_count": 63,
   "metadata": {},
   "outputs": [],
   "source": [
    "import multiprocessing\n",
    "import time\n",
    "\n",
    "def print_numbers():\n",
    "    for i in range(5):\n",
    "        print(f\"Number: {i}\")\n",
    "        time.sleep(1)\n",
    "        \n",
    "def print_letters():\n",
    "    for letter in 'ABCDE':\n",
    "        print(f\"Letter: {letter}\")\n",
    "        time.sleep(1.5)\n",
    "        \n",
    "def run_processes():\n",
    "    process1 = multiprocessing.Process(target=print_numbers)\n",
    "    process2 = multiprocessing.Process(target=print_letters)\n",
    "    \n",
    "    process1.start()\n",
    "    process2.start()\n",
    "    \n",
    "    process1.join()\n",
    "    process2.join()\n",
    "    \n",
    "run_processes()"
   ]
  }
 ],
 "metadata": {
  "kernelspec": {
   "display_name": "orderly",
   "language": "python",
   "name": "python3"
  },
  "language_info": {
   "codemirror_mode": {
    "name": "ipython",
    "version": 3
   },
   "file_extension": ".py",
   "mimetype": "text/x-python",
   "name": "python",
   "nbconvert_exporter": "python",
   "pygments_lexer": "ipython3",
   "version": "3.10.14"
  }
 },
 "nbformat": 4,
 "nbformat_minor": 2
}
